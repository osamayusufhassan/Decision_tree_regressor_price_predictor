{
 "cells": [
  {
   "cell_type": "markdown",
   "id": "dcce9317",
   "metadata": {},
   "source": [
    "## Importing Pandas library"
   ]
  },
  {
   "cell_type": "code",
   "execution_count": 7,
   "id": "4d5e9ab4",
   "metadata": {},
   "outputs": [
    {
     "name": "stdout",
     "output_type": "stream",
     "text": [
      "Pandas imported as pd\n"
     ]
    }
   ],
   "source": [
    "#Pandas is a python library used for data analysis and data manipulation\n",
    "\n",
    "import pandas as pd\n",
    "\n",
    "print(\"Pandas imported as pd\")"
   ]
  },
  {
   "cell_type": "markdown",
   "id": "1cb03f8d",
   "metadata": {},
   "source": [
    "## Importing the data set from source folder"
   ]
  },
  {
   "cell_type": "code",
   "execution_count": 11,
   "id": "821fe187",
   "metadata": {},
   "outputs": [
    {
     "name": "stdout",
     "output_type": "stream",
     "text": [
      "The data set in csv file home_data has been imported\n"
     ]
    }
   ],
   "source": [
    "#Here we are importing the data set in csv file home_data from source folder and assigning variable home to it\n",
    "\n",
    "home = pd.read_csv('home_data.csv')\n",
    "\n",
    "print(\"The data set in csv file home_data has been imported\")"
   ]
  },
  {
   "cell_type": "markdown",
   "id": "9bfdeaf6",
   "metadata": {},
   "source": [
    "## Reviewing the data"
   ]
  },
  {
   "cell_type": "code",
   "execution_count": 13,
   "id": "ca0290ec",
   "metadata": {},
   "outputs": [
    {
     "name": "stdout",
     "output_type": "stream",
     "text": [
      "Describe function generates summary of various statistical quantites such as count, mean, std, max, min etc of each column  in data set\n"
     ]
    },
    {
     "data": {
      "text/plain": [
       "<bound method NDFrame.describe of         Id  MSSubClass MSZoning  LotFrontage  LotArea Street Alley LotShape  \\\n",
       "0        1          60       RL         65.0     8450   Pave   NaN      Reg   \n",
       "1        2          20       RL         80.0     9600   Pave   NaN      Reg   \n",
       "2        3          60       RL         68.0    11250   Pave   NaN      IR1   \n",
       "3        4          70       RL         60.0     9550   Pave   NaN      IR1   \n",
       "4        5          60       RL         84.0    14260   Pave   NaN      IR1   \n",
       "...    ...         ...      ...          ...      ...    ...   ...      ...   \n",
       "1455  1456          60       RL         62.0     7917   Pave   NaN      Reg   \n",
       "1456  1457          20       RL         85.0    13175   Pave   NaN      Reg   \n",
       "1457  1458          70       RL         66.0     9042   Pave   NaN      Reg   \n",
       "1458  1459          20       RL         68.0     9717   Pave   NaN      Reg   \n",
       "1459  1460          20       RL         75.0     9937   Pave   NaN      Reg   \n",
       "\n",
       "     LandContour Utilities  ... PoolArea PoolQC  Fence MiscFeature MiscVal  \\\n",
       "0            Lvl    AllPub  ...        0    NaN    NaN         NaN       0   \n",
       "1            Lvl    AllPub  ...        0    NaN    NaN         NaN       0   \n",
       "2            Lvl    AllPub  ...        0    NaN    NaN         NaN       0   \n",
       "3            Lvl    AllPub  ...        0    NaN    NaN         NaN       0   \n",
       "4            Lvl    AllPub  ...        0    NaN    NaN         NaN       0   \n",
       "...          ...       ...  ...      ...    ...    ...         ...     ...   \n",
       "1455         Lvl    AllPub  ...        0    NaN    NaN         NaN       0   \n",
       "1456         Lvl    AllPub  ...        0    NaN  MnPrv         NaN       0   \n",
       "1457         Lvl    AllPub  ...        0    NaN  GdPrv        Shed    2500   \n",
       "1458         Lvl    AllPub  ...        0    NaN    NaN         NaN       0   \n",
       "1459         Lvl    AllPub  ...        0    NaN    NaN         NaN       0   \n",
       "\n",
       "     MoSold YrSold  SaleType  SaleCondition  SalePrice  \n",
       "0         2   2008        WD         Normal     208500  \n",
       "1         5   2007        WD         Normal     181500  \n",
       "2         9   2008        WD         Normal     223500  \n",
       "3         2   2006        WD        Abnorml     140000  \n",
       "4        12   2008        WD         Normal     250000  \n",
       "...     ...    ...       ...            ...        ...  \n",
       "1455      8   2007        WD         Normal     175000  \n",
       "1456      2   2010        WD         Normal     210000  \n",
       "1457      5   2010        WD         Normal     266500  \n",
       "1458      4   2010        WD         Normal     142125  \n",
       "1459      6   2008        WD         Normal     147500  \n",
       "\n",
       "[1460 rows x 81 columns]>"
      ]
     },
     "execution_count": 13,
     "metadata": {},
     "output_type": "execute_result"
    }
   ],
   "source": [
    "print(\"Describe function generates summary of various statistical quantites such as count, mean, std, max, min etc of each column  in data set\")\n",
    "home.describe\n"
   ]
  },
  {
   "cell_type": "code",
   "execution_count": 25,
   "id": "852ee8f3",
   "metadata": {},
   "outputs": [
    {
     "name": "stdout",
     "output_type": "stream",
     "text": [
      "The columnns function returns the column labels of the given Dataframe\n"
     ]
    },
    {
     "data": {
      "text/plain": [
       "Index(['Id', 'MSSubClass', 'MSZoning', 'LotFrontage', 'LotArea', 'Street',\n",
       "       'Alley', 'LotShape', 'LandContour', 'Utilities', 'LotConfig',\n",
       "       'LandSlope', 'Neighborhood', 'Condition1', 'Condition2', 'BldgType',\n",
       "       'HouseStyle', 'OverallQual', 'OverallCond', 'YearBuilt', 'YearRemodAdd',\n",
       "       'RoofStyle', 'RoofMatl', 'Exterior1st', 'Exterior2nd', 'MasVnrType',\n",
       "       'MasVnrArea', 'ExterQual', 'ExterCond', 'Foundation', 'BsmtQual',\n",
       "       'BsmtCond', 'BsmtExposure', 'BsmtFinType1', 'BsmtFinSF1',\n",
       "       'BsmtFinType2', 'BsmtFinSF2', 'BsmtUnfSF', 'TotalBsmtSF', 'Heating',\n",
       "       'HeatingQC', 'CentralAir', 'Electrical', '1stFlrSF', '2ndFlrSF',\n",
       "       'LowQualFinSF', 'GrLivArea', 'BsmtFullBath', 'BsmtHalfBath', 'FullBath',\n",
       "       'HalfBath', 'BedroomAbvGr', 'KitchenAbvGr', 'KitchenQual',\n",
       "       'TotRmsAbvGrd', 'Functional', 'Fireplaces', 'FireplaceQu', 'GarageType',\n",
       "       'GarageYrBlt', 'GarageFinish', 'GarageCars', 'GarageArea', 'GarageQual',\n",
       "       'GarageCond', 'PavedDrive', 'WoodDeckSF', 'OpenPorchSF',\n",
       "       'EnclosedPorch', '3SsnPorch', 'ScreenPorch', 'PoolArea', 'PoolQC',\n",
       "       'Fence', 'MiscFeature', 'MiscVal', 'MoSold', 'YrSold', 'SaleType',\n",
       "       'SaleCondition', 'SalePrice'],\n",
       "      dtype='object')"
      ]
     },
     "execution_count": 25,
     "metadata": {},
     "output_type": "execute_result"
    }
   ],
   "source": [
    "print(\"The columnns function returns the column labels of the given Dataframe\")\n",
    "home.columns"
   ]
  },
  {
   "cell_type": "markdown",
   "id": "6ff1e740",
   "metadata": {},
   "source": [
    "## Specifying dependent variable/prediction target\n",
    "\n",
    "Here we are assigning SalePrice column to y which will serve as dependent variable"
   ]
  },
  {
   "cell_type": "code",
   "execution_count": 14,
   "id": "8aae4e30",
   "metadata": {},
   "outputs": [
    {
     "name": "stdout",
     "output_type": "stream",
     "text": [
      "SalePrice columned assigned to variable y\n",
      "y = 0       208500\n",
      "1       181500\n",
      "2       223500\n",
      "3       140000\n",
      "4       250000\n",
      "         ...  \n",
      "1455    175000\n",
      "1456    210000\n",
      "1457    266500\n",
      "1458    142125\n",
      "1459    147500\n",
      "Name: SalePrice, Length: 1460, dtype: int64\n"
     ]
    }
   ],
   "source": [
    "y = home.SalePrice\n",
    "print(\"SalePrice columned assigned to variable y\")\n",
    "print(\"y =\", y)"
   ]
  },
  {
   "cell_type": "markdown",
   "id": "29b684e5",
   "metadata": {},
   "source": [
    "## Creating features\n",
    "\n",
    "Now we create features out of some columns in the original data set and store it in x\n",
    "\n",
    "We are using the following columns from the original data set\n",
    "\n",
    "LotArea, \n",
    "YearBuilt, \n",
    "1stFlrSF, \n",
    "2ndFlrSF, \n",
    "FullBath, \n",
    "BedroomAbvGr, \n",
    "TotRmsAbvGrd, \n",
    "\n",
    "After you've created that list of features, use it to create the DataFrame that you'll use to fit the model."
   ]
  },
  {
   "cell_type": "code",
   "execution_count": 19,
   "id": "dd5625c8",
   "metadata": {},
   "outputs": [],
   "source": [
    "feature_names = ['LotArea', 'YearBuilt', '1stFlrSF', '2ndFlrSF', 'FullBath','BedroomAbvGr', 'TotRmsAbvGrd']\n",
    "x = home[feature_names]"
   ]
  },
  {
   "cell_type": "markdown",
   "id": "7da94700",
   "metadata": {},
   "source": [
    "## Preferred Machine Learning Model : Decision Tree Regressor\n",
    "\n",
    "A Decision Tree Regressor is a non-parametric supervised learning method (a model where labelled data is provided as input and which estimates an expected output from the training data) used for both classification and regression tasks.\n",
    "\n",
    "In Decision Trees  the data is continuously split according to a certain parameter. The tree can be explained by two entities, namely decision nodes and leaves.\n",
    "\n",
    "Tree models where the target variable can take a discrete set of values are called Classification Trees or categorical Variable Decision Tree. \n",
    "\n",
    "Decision trees where the target variable can take continuous values (typically real numbers) are called Regression Trees or Continuous Variable Decision Tree.\n",
    "\n",
    "Classification And Regression Tree (CART) is general term for this.\n",
    " \n",
    "Some important terminologies associated with Decision Trees are discussed below:\n",
    "\n",
    "Root Node: It represents the entire population or sample and this further gets divided into two or more homogeneous sets.\n",
    "\n",
    "Splitting: It is a process of dividing a node into two or more sub-nodes.\n",
    "\n",
    "Decision Node: When a sub-node splits into further sub-nodes, then it is called the decision node.\n",
    "\n",
    "Leaf / Terminal Node: Nodes do not split is called Leaf or Terminal node.\n",
    "\n",
    "Pruning: When we remove sub-nodes of a decision node, this process is called pruning. You can say the opposite process of splitting.\n",
    "\n"
   ]
  },
  {
   "cell_type": "markdown",
   "id": "4432c733",
   "metadata": {},
   "source": [
    "## Importing DecisionTreeRegressor function to build Decision Tree Regressor Machine Learning Model "
   ]
  },
  {
   "cell_type": "code",
   "execution_count": 20,
   "id": "c9b996b9",
   "metadata": {},
   "outputs": [
    {
     "name": "stdout",
     "output_type": "stream",
     "text": [
      "DecisionTreeRegressor function imported from tree module of sci-kit learn library\n"
     ]
    }
   ],
   "source": [
    "##Importing DecisionTreeRegressor function from sci-kit learn library to build Decision Tree Regressor ML Model\n",
    "from sklearn.tree import DecisionTreeRegressor\n",
    "print(\"DecisionTreeRegressor function imported from tree module of sci-kit learn library\")"
   ]
  },
  {
   "cell_type": "markdown",
   "id": "4fdc719f",
   "metadata": {},
   "source": [
    "## Fitting Decision Tree Regressor"
   ]
  },
  {
   "cell_type": "code",
   "execution_count": 21,
   "id": "c75599f3",
   "metadata": {},
   "outputs": [
    {
     "name": "stdout",
     "output_type": "stream",
     "text": [
      "Model fit\n"
     ]
    }
   ],
   "source": [
    "model = DecisionTreeRegressor(random_state=1)\n",
    "model.fit(x , y)\n",
    "print(\"Model fit\")"
   ]
  },
  {
   "cell_type": "markdown",
   "id": "ced109d0",
   "metadata": {},
   "source": [
    "## Making Predictions using Decision Tree Regressor"
   ]
  },
  {
   "cell_type": "code",
   "execution_count": 22,
   "id": "3c475204",
   "metadata": {},
   "outputs": [
    {
     "name": "stdout",
     "output_type": "stream",
     "text": [
      "[208500. 181500. 223500. ... 266500. 142125. 147500.]\n"
     ]
    }
   ],
   "source": [
    "predictions = model.predict(x)\n",
    "print(predictions)"
   ]
  },
  {
   "cell_type": "markdown",
   "id": "42c2ecd5",
   "metadata": {},
   "source": [
    "## Comparing the first five predictions of home values with first five actual home values"
   ]
  },
  {
   "cell_type": "code",
   "execution_count": 23,
   "id": "4c4478a5",
   "metadata": {},
   "outputs": [
    {
     "data": {
      "text/html": [
       "<div>\n",
       "<style scoped>\n",
       "    .dataframe tbody tr th:only-of-type {\n",
       "        vertical-align: middle;\n",
       "    }\n",
       "\n",
       "    .dataframe tbody tr th {\n",
       "        vertical-align: top;\n",
       "    }\n",
       "\n",
       "    .dataframe thead th {\n",
       "        text-align: right;\n",
       "    }\n",
       "</style>\n",
       "<table border=\"1\" class=\"dataframe\">\n",
       "  <thead>\n",
       "    <tr style=\"text-align: right;\">\n",
       "      <th></th>\n",
       "      <th>SalePrice</th>\n",
       "      <th>0</th>\n",
       "    </tr>\n",
       "  </thead>\n",
       "  <tbody>\n",
       "    <tr>\n",
       "      <th>0</th>\n",
       "      <td>208500</td>\n",
       "      <td>208500.0</td>\n",
       "    </tr>\n",
       "    <tr>\n",
       "      <th>1</th>\n",
       "      <td>181500</td>\n",
       "      <td>181500.0</td>\n",
       "    </tr>\n",
       "    <tr>\n",
       "      <th>2</th>\n",
       "      <td>223500</td>\n",
       "      <td>223500.0</td>\n",
       "    </tr>\n",
       "    <tr>\n",
       "      <th>3</th>\n",
       "      <td>140000</td>\n",
       "      <td>140000.0</td>\n",
       "    </tr>\n",
       "    <tr>\n",
       "      <th>4</th>\n",
       "      <td>250000</td>\n",
       "      <td>250000.0</td>\n",
       "    </tr>\n",
       "    <tr>\n",
       "      <th>...</th>\n",
       "      <td>...</td>\n",
       "      <td>...</td>\n",
       "    </tr>\n",
       "    <tr>\n",
       "      <th>1455</th>\n",
       "      <td>175000</td>\n",
       "      <td>175000.0</td>\n",
       "    </tr>\n",
       "    <tr>\n",
       "      <th>1456</th>\n",
       "      <td>210000</td>\n",
       "      <td>210000.0</td>\n",
       "    </tr>\n",
       "    <tr>\n",
       "      <th>1457</th>\n",
       "      <td>266500</td>\n",
       "      <td>266500.0</td>\n",
       "    </tr>\n",
       "    <tr>\n",
       "      <th>1458</th>\n",
       "      <td>142125</td>\n",
       "      <td>142125.0</td>\n",
       "    </tr>\n",
       "    <tr>\n",
       "      <th>1459</th>\n",
       "      <td>147500</td>\n",
       "      <td>147500.0</td>\n",
       "    </tr>\n",
       "  </tbody>\n",
       "</table>\n",
       "<p>1460 rows × 2 columns</p>\n",
       "</div>"
      ],
      "text/plain": [
       "      SalePrice         0\n",
       "0        208500  208500.0\n",
       "1        181500  181500.0\n",
       "2        223500  223500.0\n",
       "3        140000  140000.0\n",
       "4        250000  250000.0\n",
       "...         ...       ...\n",
       "1455     175000  175000.0\n",
       "1456     210000  210000.0\n",
       "1457     266500  266500.0\n",
       "1458     142125  142125.0\n",
       "1459     147500  147500.0\n",
       "\n",
       "[1460 rows x 2 columns]"
      ]
     },
     "execution_count": 23,
     "metadata": {},
     "output_type": "execute_result"
    }
   ],
   "source": [
    "model.predict(x.head()) #The head function is used to return/displays the first five rows of the dataframe\n",
    "\n",
    "prediction_series = pd.Series(predictions)\n",
    "pd.concat([home['SalePrice'], prediction_series], axis=1)"
   ]
  },
  {
   "cell_type": "markdown",
   "id": "3460a661",
   "metadata": {},
   "source": [
    "## Model Validation\n",
    "\n",
    "No matter how good we think our machine learning model might be, we still need to validate that model. Model validation means evaluating our model that whether or not it is performing accurate predictions. \n",
    "\n",
    "Previously, we trained Decision Tree Regressor using the provided data. If we test our model using the same data, our machine learning will show accurate results since it was trained on the same data.\n",
    "\n",
    "Therefore, this time we will split our data set into training data set and test/validation data set.\n",
    "\n",
    "This time we will train Decision Tree Regressor using training data set and testit using the validation/test data set.\n",
    "\n",
    "Furthermore, we will also use Mean Absolute Error (MAE) in order to evaluate the quality of our model.\n",
    "\n",
    "There various other metrics as well to evaluate the quality of our model."
   ]
  },
  {
   "cell_type": "markdown",
   "id": "1a708a1e",
   "metadata": {},
   "source": [
    "## Splitting the data set\n",
    "\n",
    "We will Use the `train_test_split` function to split up your data.\n",
    "\n",
    "Give it the argument random_state=1 so the check functions know what to expect when verifying your code.\n",
    "\n",
    "Recall, your features are loaded in the DataFrame X and your target is loaded in y."
   ]
  },
  {
   "cell_type": "code",
   "execution_count": 24,
   "id": "72f4a726",
   "metadata": {},
   "outputs": [
    {
     "name": "stdout",
     "output_type": "stream",
     "text": [
      "train_test_split function imported from sci-kit learn library\n"
     ]
    }
   ],
   "source": [
    "#Import the train_test_split function\n",
    "from sklearn.model_selection import train_test_split\n",
    "print (\"train_test_split function imported from sci-kit learn library\")"
   ]
  },
  {
   "cell_type": "code",
   "execution_count": 25,
   "id": "5af36d24",
   "metadata": {},
   "outputs": [],
   "source": [
    "train_x, test_x, train_y, test_y = train_test_split( x, y, random_state=1)"
   ]
  },
  {
   "cell_type": "markdown",
   "id": "56bbff67",
   "metadata": {},
   "source": [
    "## Fitting the model using training data set"
   ]
  },
  {
   "cell_type": "code",
   "execution_count": 27,
   "id": "9d8ac1eb",
   "metadata": {},
   "outputs": [
    {
     "name": "stdout",
     "output_type": "stream",
     "text": [
      "The model has been fit\n"
     ]
    }
   ],
   "source": [
    "model = DecisionTreeRegressor(random_state=1)\n",
    "model.fit(train_x,train_y)\n",
    "\n",
    "print(\"The model has been fit\")"
   ]
  },
  {
   "cell_type": "markdown",
   "id": "3c249872",
   "metadata": {},
   "source": [
    "## Making predictions using the test/validation data set"
   ]
  },
  {
   "cell_type": "code",
   "execution_count": 28,
   "id": "bc0dbc01",
   "metadata": {},
   "outputs": [
    {
     "name": "stdout",
     "output_type": "stream",
     "text": [
      "The predicted values for test_x are [186500. 184000. 130000.  92000. 164500. 220000. 335000. 144152. 215000.\n",
      " 262000. 180000. 121000. 175900. 210000. 248900. 131000. 100000. 149350.\n",
      " 235000. 156000. 149900. 265979. 193500. 377500. 100000. 162900. 145000.\n",
      " 180000. 582933. 146000. 140000.  91500. 112500. 113000. 145000. 312500.\n",
      " 110000. 132000. 305000. 128000. 162900. 115000. 110000. 124000. 215200.\n",
      " 180000.  79000. 192000. 282922. 235000. 132000. 325000.  80000. 237000.\n",
      " 208300. 100000. 120500. 162000. 153000. 187000. 185750. 335000. 129000.\n",
      " 124900. 185750. 133700. 127000. 230000. 146800. 157900. 136000. 153575.\n",
      " 335000. 177500. 143000. 202500. 168500. 105000. 305900. 192000. 190000.\n",
      " 140200. 134900. 128950. 213000. 108959. 149500. 190000. 175900. 160000.\n",
      " 250580. 157000. 120500. 147500. 118000. 117000. 110000. 130000. 148500.\n",
      " 148000. 190000. 130500. 127000. 120500. 135000. 168000. 176432. 128000.\n",
      " 147000. 260000. 132000. 129500. 171000. 181134. 227875. 189000. 282922.\n",
      "  94750. 185000. 194000. 159000. 279500. 290000. 135000. 299800. 165000.\n",
      " 394432. 135750. 155000. 212000. 310000. 134800.  84000. 122900.  80000.\n",
      " 191000. 755000. 147000. 248000. 106500. 145000. 359100. 145000. 192500.\n",
      " 149000. 252000. 109000. 215000. 220000. 138500. 185000. 185000. 120500.\n",
      " 181000. 173000. 335000.  67000. 149350.  67000. 156000. 119000. 110500.\n",
      " 184000. 147000. 156000. 171000. 177000. 159000. 125000. 105000. 284000.\n",
      " 167500. 200000. 312500. 213000. 135960. 205000. 237000. 107000. 163000.\n",
      " 132500. 155835. 165500. 138500. 257000. 160000. 394617. 281213. 161000.\n",
      " 127500.  88000. 139000.  89500. 132500. 134800. 335000. 248900. 155000.\n",
      " 147000.  86000. 185000. 200000. 180500. 215200. 319900. 105000. 194000.\n",
      " 340000. 256000. 280000. 186500. 105500. 155000. 133500. 255500. 253000.\n",
      " 130000.  92900. 256000. 100000. 755000. 138500. 168500. 112000. 127000.\n",
      " 109008. 197000. 245500. 171900. 162000. 128000. 173000. 132000. 118000.\n",
      " 235128. 118964. 260000. 116000. 185000. 315750. 236500. 140000. 151500.\n",
      " 184000.  84000. 130000. 154000. 205000. 110000. 151500. 123000. 129500.\n",
      " 173900. 181500. 165500. 106500. 184900.  84500. 377500. 118500. 180000.\n",
      " 190000. 208500. 181000.  98000. 157000. 151500.  84000. 139000. 100000.\n",
      " 161750. 165600. 116000. 118500. 187000. 147000. 112000. 132000. 230000.\n",
      " 128000. 147000. 125000. 145000. 151000. 284000. 221000. 140200. 129000.\n",
      " 290000. 105000.  96500. 310000. 140000. 132000. 203000. 221000. 215200.\n",
      " 214000. 139000.  91500. 148000. 155000. 115000. 180000. 165500. 223000.\n",
      " 139000. 179900. 150000. 185000. 163000. 176000. 127000. 227000. 146000.\n",
      "  99900. 275000. 180500. 180000. 157000. 186500. 179900. 137500. 219500.\n",
      " 155000. 345000. 197000. 205000. 159000. 159434. 156000. 196000. 252678.\n",
      " 255500. 213000. 150900. 143750. 139000. 260000. 189000. 213250. 207500.\n",
      "  80000. 221000. 109500. 155000. 165000. 149350. 204900. 105900. 155000.\n",
      " 176000. 395000. 149700. 147000. 143900. 226700. 176000. 116000. 325300.\n",
      " 133750. 188500. 148500. 284000. 201800.]\n"
     ]
    }
   ],
   "source": [
    "predict_y = model.predict(test_x)\n",
    "print(\"The predicted values for test_x are\" ,predict_y)"
   ]
  },
  {
   "cell_type": "markdown",
   "id": "a680460e",
   "metadata": {},
   "source": [
    "## Calculating the Mean Absolute Error (MAE) in test/validation data set\n",
    "\n",
    "For calculating the Mean Absolute Error (MAE) we will import mean_absolute_error function from sci-kit learn library"
   ]
  },
  {
   "cell_type": "markdown",
   "id": "742fa7f5",
   "metadata": {},
   "source": [
    "## Importing mean_absolute_error function"
   ]
  },
  {
   "cell_type": "code",
   "execution_count": 29,
   "id": "23202eb6",
   "metadata": {},
   "outputs": [
    {
     "name": "stdout",
     "output_type": "stream",
     "text": [
      "mean_absolute_error function imported\n"
     ]
    }
   ],
   "source": [
    "#Importing mean_absolute_error function from sci-kit learn library\n",
    "from sklearn.metrics import mean_absolute_error\n",
    "print(\"mean_absolute_error function imported\")"
   ]
  },
  {
   "cell_type": "markdown",
   "id": "ccccb56e",
   "metadata": {},
   "source": [
    "## Calculating the mean absolute error"
   ]
  },
  {
   "cell_type": "code",
   "execution_count": 30,
   "id": "98ab9003",
   "metadata": {},
   "outputs": [
    {
     "name": "stdout",
     "output_type": "stream",
     "text": [
      "29652.931506849316\n"
     ]
    }
   ],
   "source": [
    "mae = mean_absolute_error(test_y, predict_y) \n",
    "print(mae)"
   ]
  },
  {
   "cell_type": "markdown",
   "id": "ed5ea7bb",
   "metadata": {},
   "source": [
    "## Overfitting vs Underfitting\n",
    "\n",
    "Overfitting means that a machine learning model is capturing the spurious patterns in the training data set almost perfectly, which leads it to perform poorly, making inaccurate predictions with test data set or a new data set.\n",
    "\n",
    "\n",
    "Underfitting means that the machine learning model is failing to capture important patterns in the the training data set. Therefore, it not only performs poorly, making inaccurate predictions with test data set or a new data set but also the  training data set itself.\n",
    "\n",
    "Usually we use test/validation data set to measure accuracy of a machine learning model.\n",
    "\n",
    "Therefore, it is necessary to find the right balance between underfitting and overfitting. \n",
    "\n",
    "Once this balance is achieved, the Mean Absolute Error minimizes providing and we are provided with a high quality and more accurate machine learning model."
   ]
  },
  {
   "cell_type": "code",
   "execution_count": 54,
   "id": "fbb5913f",
   "metadata": {},
   "outputs": [],
   "source": [
    "#max_leaf_nodes argument to control overfitting vs underfitting\n",
    "#The more leaves we allow the model to make, the more we move from the underfitting area to the overfitting area.\n",
    "\n",
    "#We are using a utility function to help compare MAE scores from different values for max_leaf_nodes\n",
    "    \n",
    "def get_mae(max_leaf_nodes, train_x, test_x, train_y, test_y):\n",
    "    model = DecisionTreeRegressor(max_leaf_nodes=max_leaf_nodes, random_state=0)\n",
    "    model.fit(train_x, train_y)\n",
    "    y_pred = model.predict(test_x)\n",
    "    mae = mean_absolute_error(test_y, y_pred)\n",
    "    return(mae)"
   ]
  },
  {
   "cell_type": "code",
   "execution_count": 63,
   "id": "d383e2cf",
   "metadata": {},
   "outputs": [
    {
     "name": "stdout",
     "output_type": "stream",
     "text": [
      "Max leaf nodes: 5  \t\t Mean Absolute Error:  35044\n",
      "Max leaf nodes: 25  \t\t Mean Absolute Error:  29016\n",
      "Max leaf nodes: 50  \t\t Mean Absolute Error:  27405\n",
      "Max leaf nodes: 100  \t\t Mean Absolute Error:  27282\n",
      "Max leaf nodes: 250  \t\t Mean Absolute Error:  27893\n",
      "Max leaf nodes: 500  \t\t Mean Absolute Error:  29454\n",
      "\n",
      " {5: 35044.51299744237, 25: 29016.41319191076, 50: 27405.930473214907, 100: 27282.50803885739, 250: 27893.822225701646, 500: 29454.18598068598}\n",
      "\n",
      "Best tree size: 100 \n",
      "MAE score: 27282.50803885739\n"
     ]
    }
   ],
   "source": [
    "candidate_max_leaf_nodes = [5, 25, 50, 100, 250, 500]\n",
    "# Write loop to find the ideal tree size from candidate_max_leaf_nodes\n",
    "for max_leaf_nodes in candidate_max_leaf_nodes:\n",
    "    mae = get_mae(max_leaf_nodes, train_x, test_x, train_y, test_y)\n",
    "    print(\"Max leaf nodes: %d  \\t\\t Mean Absolute Error:  %d\" %(max_leaf_nodes, mae))\n",
    "\n",
    "# Store the best value of max_leaf_nodes (it will be either 5, 25, 50, 100, 250 or 500)\n",
    "scores = {leaf_size: get_mae(leaf_size, train_x, test_x, train_y, test_y) for leaf_size in candidate_max_leaf_nodes}\n",
    "print(\"\\n\",scores)\n",
    "\n",
    "best_tree_size = min(scores, key=scores.get)\n",
    "\n",
    "print(\"\\nBest tree size:\" , best_tree_size, \"\\nMAE score:\",scores[best_tree_size])\n"
   ]
  },
  {
   "cell_type": "code",
   "execution_count": 64,
   "id": "4be5e6d7",
   "metadata": {},
   "outputs": [
    {
     "name": "stdout",
     "output_type": "stream",
     "text": [
      " Best model has been fit\n"
     ]
    }
   ],
   "source": [
    "# Fill in argument to make optimal size and uncomment\n",
    "final_model = DecisionTreeRegressor(max_leaf_nodes=best_tree_size, random_state=0)\n",
    "\n",
    "\n",
    "# fit the final model and uncomment the next two lines\n",
    "final_model.fit(x, y)\n",
    "print(\" Best model has been fit\")\n"
   ]
  }
 ],
 "metadata": {
  "kernelspec": {
   "display_name": "Python 3 (ipykernel)",
   "language": "python",
   "name": "python3"
  },
  "language_info": {
   "codemirror_mode": {
    "name": "ipython",
    "version": 3
   },
   "file_extension": ".py",
   "mimetype": "text/x-python",
   "name": "python",
   "nbconvert_exporter": "python",
   "pygments_lexer": "ipython3",
   "version": "3.9.12"
  }
 },
 "nbformat": 4,
 "nbformat_minor": 5
}
